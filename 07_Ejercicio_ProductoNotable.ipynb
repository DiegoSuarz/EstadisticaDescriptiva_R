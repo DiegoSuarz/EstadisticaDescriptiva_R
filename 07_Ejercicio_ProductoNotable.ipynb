{
 "cells": [
  {
   "cell_type": "markdown",
   "metadata": {},
   "source": [
    "# Producto Notable:\n",
    "\n",
    "La formula del producto notables es:\n",
    "\n",
    "$$(a+b)^2 = a^2+ab+b^2$$"
   ]
  },
  {
   "cell_type": "code",
   "execution_count": 5,
   "metadata": {
    "vscode": {
     "languageId": "r"
    }
   },
   "outputs": [
    {
     "data": {
      "text/html": [
       "9"
      ],
      "text/latex": [
       "9"
      ],
      "text/markdown": [
       "9"
      ],
      "text/plain": [
       "[1] 9"
      ]
     },
     "metadata": {},
     "output_type": "display_data"
    }
   ],
   "source": [
    "# Funcion en R:\n",
    "\n",
    "binomio <- function(a,b){\n",
    "    a^2 + 2*a*b + b^2\n",
    "}\n",
    "\n",
    "binomio(1, 2)"
   ]
  },
  {
   "cell_type": "markdown",
   "metadata": {},
   "source": [
    "# BINOMIO DE NEWTON:\n",
    "\n",
    "$$(a+b)^n = \\sum_{k=0}^n {n\\choose k}\\cdot a^{n-k}\\cdot b^k$$"
   ]
  },
  {
   "cell_type": "code",
   "execution_count": 6,
   "metadata": {
    "vscode": {
     "languageId": "r"
    }
   },
   "outputs": [
    {
     "name": "stderr",
     "output_type": "stream",
     "text": [
      "Warning message in n:(0:n):\n",
      "\"numerical expression has 3 elements: only the first used\"\n"
     ]
    },
    {
     "data": {
      "text/html": [
       "9"
      ],
      "text/latex": [
       "9"
      ],
      "text/markdown": [
       "9"
      ],
      "text/plain": [
       "[1] 9"
      ]
     },
     "metadata": {},
     "output_type": "display_data"
    }
   ],
   "source": [
    "binomioNewton = function(a,b,n){\n",
    "    cumsum(choose(n,(0:n))*a^(n:(0:n))*b^(0:n))[n+1]\n",
    "}\n",
    "binomioNewton(2, 1, 2)"
   ]
  }
 ],
 "metadata": {
  "kernelspec": {
   "display_name": "R",
   "language": "R",
   "name": "ir"
  },
  "language_info": {
   "codemirror_mode": "r",
   "file_extension": ".r",
   "mimetype": "text/x-r-source",
   "name": "R",
   "pygments_lexer": "r",
   "version": "4.4.2"
  }
 },
 "nbformat": 4,
 "nbformat_minor": 2
}
