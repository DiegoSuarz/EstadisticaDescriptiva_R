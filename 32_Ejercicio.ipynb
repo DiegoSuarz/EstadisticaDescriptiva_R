{
 "cells": [
  {
   "cell_type": "markdown",
   "metadata": {},
   "source": [
    "# Insecticida"
   ]
  },
  {
   "cell_type": "code",
   "execution_count": 1,
   "metadata": {
    "vscode": {
     "languageId": "r"
    }
   },
   "outputs": [
    {
     "data": {
      "text/html": [
       "<table class=\"dataframe\">\n",
       "<caption>A data.frame: 6 × 2</caption>\n",
       "<thead>\n",
       "\t<tr><th></th><th scope=col>count</th><th scope=col>spray</th></tr>\n",
       "\t<tr><th></th><th scope=col>&lt;dbl&gt;</th><th scope=col>&lt;fct&gt;</th></tr>\n",
       "</thead>\n",
       "<tbody>\n",
       "\t<tr><th scope=row>1</th><td>10</td><td>A</td></tr>\n",
       "\t<tr><th scope=row>2</th><td> 7</td><td>A</td></tr>\n",
       "\t<tr><th scope=row>3</th><td>20</td><td>A</td></tr>\n",
       "\t<tr><th scope=row>4</th><td>14</td><td>A</td></tr>\n",
       "\t<tr><th scope=row>5</th><td>14</td><td>A</td></tr>\n",
       "\t<tr><th scope=row>6</th><td>12</td><td>A</td></tr>\n",
       "</tbody>\n",
       "</table>\n"
      ],
      "text/latex": [
       "A data.frame: 6 × 2\n",
       "\\begin{tabular}{r|ll}\n",
       "  & count & spray\\\\\n",
       "  & <dbl> & <fct>\\\\\n",
       "\\hline\n",
       "\t1 & 10 & A\\\\\n",
       "\t2 &  7 & A\\\\\n",
       "\t3 & 20 & A\\\\\n",
       "\t4 & 14 & A\\\\\n",
       "\t5 & 14 & A\\\\\n",
       "\t6 & 12 & A\\\\\n",
       "\\end{tabular}\n"
      ],
      "text/markdown": [
       "\n",
       "A data.frame: 6 × 2\n",
       "\n",
       "| <!--/--> | count &lt;dbl&gt; | spray &lt;fct&gt; |\n",
       "|---|---|---|\n",
       "| 1 | 10 | A |\n",
       "| 2 |  7 | A |\n",
       "| 3 | 20 | A |\n",
       "| 4 | 14 | A |\n",
       "| 5 | 14 | A |\n",
       "| 6 | 12 | A |\n",
       "\n"
      ],
      "text/plain": [
       "  count spray\n",
       "1 10    A    \n",
       "2  7    A    \n",
       "3 20    A    \n",
       "4 14    A    \n",
       "5 14    A    \n",
       "6 12    A    "
      ]
     },
     "metadata": {},
     "output_type": "display_data"
    }
   ],
   "source": [
    "data = InsectSprays\n",
    "head(data)"
   ]
  },
  {
   "cell_type": "code",
   "execution_count": 2,
   "metadata": {
    "vscode": {
     "languageId": "r"
    }
   },
   "outputs": [
    {
     "name": "stdout",
     "output_type": "stream",
     "text": [
      "'data.frame':\t72 obs. of  2 variables:\n",
      " $ count: num  10 7 20 14 14 12 10 23 17 20 ...\n",
      " $ spray: Factor w/ 6 levels \"A\",\"B\",\"C\",\"D\",..: 1 1 1 1 1 1 1 1 1 1 ...\n"
     ]
    }
   ],
   "source": [
    "str(data)"
   ]
  },
  {
   "cell_type": "code",
   "execution_count": 3,
   "metadata": {
    "vscode": {
     "languageId": "r"
    }
   },
   "outputs": [
    {
     "data": {
      "text/plain": [
       "data$spray: A\n",
       "   Min. 1st Qu.  Median    Mean 3rd Qu.    Max. \n",
       "   7.00   11.50   14.00   14.50   17.75   23.00 \n",
       "------------------------------------------------------------ \n",
       "data$spray: B\n",
       "   Min. 1st Qu.  Median    Mean 3rd Qu.    Max. \n",
       "   7.00   12.50   16.50   15.33   17.50   21.00 \n",
       "------------------------------------------------------------ \n",
       "data$spray: C\n",
       "   Min. 1st Qu.  Median    Mean 3rd Qu.    Max. \n",
       "  0.000   1.000   1.500   2.083   3.000   7.000 \n",
       "------------------------------------------------------------ \n",
       "data$spray: D\n",
       "   Min. 1st Qu.  Median    Mean 3rd Qu.    Max. \n",
       "  2.000   3.750   5.000   4.917   5.000  12.000 \n",
       "------------------------------------------------------------ \n",
       "data$spray: E\n",
       "   Min. 1st Qu.  Median    Mean 3rd Qu.    Max. \n",
       "   1.00    2.75    3.00    3.50    5.00    6.00 \n",
       "------------------------------------------------------------ \n",
       "data$spray: F\n",
       "   Min. 1st Qu.  Median    Mean 3rd Qu.    Max. \n",
       "   9.00   12.50   15.00   16.67   22.50   26.00 "
      ]
     },
     "metadata": {},
     "output_type": "display_data"
    }
   ],
   "source": [
    "by(data$count, data$spray, FUN = summary)"
   ]
  },
  {
   "cell_type": "code",
   "execution_count": 4,
   "metadata": {
    "vscode": {
     "languageId": "r"
    }
   },
   "outputs": [
    {
     "data": {
      "text/html": [
       "<table class=\"dataframe\">\n",
       "<caption>A data.frame: 6 × 2</caption>\n",
       "<thead>\n",
       "\t<tr><th scope=col>spray</th><th scope=col>count</th></tr>\n",
       "\t<tr><th scope=col>&lt;fct&gt;</th><th scope=col>&lt;dbl&gt;</th></tr>\n",
       "</thead>\n",
       "<tbody>\n",
       "\t<tr><td>A</td><td>4.719399</td></tr>\n",
       "\t<tr><td>B</td><td>4.271115</td></tr>\n",
       "\t<tr><td>C</td><td>1.975225</td></tr>\n",
       "\t<tr><td>D</td><td>2.503028</td></tr>\n",
       "\t<tr><td>E</td><td>1.732051</td></tr>\n",
       "\t<tr><td>F</td><td>6.213378</td></tr>\n",
       "</tbody>\n",
       "</table>\n"
      ],
      "text/latex": [
       "A data.frame: 6 × 2\n",
       "\\begin{tabular}{ll}\n",
       " spray & count\\\\\n",
       " <fct> & <dbl>\\\\\n",
       "\\hline\n",
       "\t A & 4.719399\\\\\n",
       "\t B & 4.271115\\\\\n",
       "\t C & 1.975225\\\\\n",
       "\t D & 2.503028\\\\\n",
       "\t E & 1.732051\\\\\n",
       "\t F & 6.213378\\\\\n",
       "\\end{tabular}\n"
      ],
      "text/markdown": [
       "\n",
       "A data.frame: 6 × 2\n",
       "\n",
       "| spray &lt;fct&gt; | count &lt;dbl&gt; |\n",
       "|---|---|\n",
       "| A | 4.719399 |\n",
       "| B | 4.271115 |\n",
       "| C | 1.975225 |\n",
       "| D | 2.503028 |\n",
       "| E | 1.732051 |\n",
       "| F | 6.213378 |\n",
       "\n"
      ],
      "text/plain": [
       "  spray count   \n",
       "1 A     4.719399\n",
       "2 B     4.271115\n",
       "3 C     1.975225\n",
       "4 D     2.503028\n",
       "5 E     1.732051\n",
       "6 F     6.213378"
      ]
     },
     "metadata": {},
     "output_type": "display_data"
    }
   ],
   "source": [
    "aggregate(count~spray, data = data, FUN = sd)"
   ]
  },
  {
   "cell_type": "code",
   "execution_count": 5,
   "metadata": {
    "vscode": {
     "languageId": "r"
    }
   },
   "outputs": [
    {
     "data": {
      "image/png": "[encoded data removed]",
      "text/plain": [
       "plot without title"
      ]
     },
     "metadata": {
      "image/png": {
       "height": 420,
       "width": 420
      }
     },
     "output_type": "display_data"
    }
   ],
   "source": [
    "boxplot(count~spray, data = data, col = \"lightgreen\",\n",
    "        xlab = \"Tipo de Spray\", ylab = \"Insectos muertos\"\n",
    "    )"
   ]
  }
 ],
 "metadata": {
  "kernelspec": {
   "display_name": "R",
   "language": "R",
   "name": "ir"
  },
  "language_info": {
   "codemirror_mode": "r",
   "file_extension": ".r",
   "mimetype": "text/x-r-source",
   "name": "R",
   "pygments_lexer": "r",
   "version": "4.4.2"
  }
 },
 "nbformat": 4,
 "nbformat_minor": 2
}
