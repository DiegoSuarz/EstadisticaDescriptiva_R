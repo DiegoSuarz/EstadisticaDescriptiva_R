{
 "cells": [
  {
   "cell_type": "markdown",
   "metadata": {},
   "source": [
    "# Ejemplo de color de ojos y de pelo"
   ]
  },
  {
   "cell_type": "code",
   "execution_count": 1,
   "metadata": {
    "vscode": {
     "languageId": "r"
    }
   },
   "outputs": [
    {
     "data": {
      "text/plain": [
       ", , Sex = Male\n",
       "\n",
       "       Eye\n",
       "Hair    Brown Blue Hazel Green\n",
       "  Black    32   11    10     3\n",
       "  Brown    53   50    25    15\n",
       "  Red      10   10     7     7\n",
       "  Blond     3   30     5     8\n",
       "\n",
       ", , Sex = Female\n",
       "\n",
       "       Eye\n",
       "Hair    Brown Blue Hazel Green\n",
       "  Black    36    9     5     2\n",
       "  Brown    66   34    29    14\n",
       "  Red      16    7     7     7\n",
       "  Blond     4   64     5     8\n"
      ]
     },
     "metadata": {},
     "output_type": "display_data"
    }
   ],
   "source": [
    "HairEyeColor # data set"
   ]
  },
  {
   "cell_type": "code",
   "execution_count": 2,
   "metadata": {
    "vscode": {
     "languageId": "r"
    }
   },
   "outputs": [
    {
     "name": "stdout",
     "output_type": "stream",
     "text": [
      "Total de valores en el data set:  592"
     ]
    }
   ],
   "source": [
    "\n",
    "sum(HairEyeColor) -> total# suma de todos los valores\n",
    "cat(\"Total de valores en el data set: \", total)"
   ]
  },
  {
   "cell_type": "code",
   "execution_count": 3,
   "metadata": {
    "vscode": {
     "languageId": "r"
    }
   },
   "outputs": [
    {
     "data": {
      "text/plain": [
       ", , Sex = Male\n",
       "\n",
       "       Eye\n",
       "Hair          Brown        Blue       Hazel       Green\n",
       "  Black 0.114695341 0.039426523 0.035842294 0.010752688\n",
       "  Brown 0.189964158 0.179211470 0.089605735 0.053763441\n",
       "  Red   0.035842294 0.035842294 0.025089606 0.025089606\n",
       "  Blond 0.010752688 0.107526882 0.017921147 0.028673835\n",
       "\n",
       ", , Sex = Female\n",
       "\n",
       "       Eye\n",
       "Hair          Brown        Blue       Hazel       Green\n",
       "  Black 0.115015974 0.028753994 0.015974441 0.006389776\n",
       "  Brown 0.210862620 0.108626198 0.092651757 0.044728435\n",
       "  Red   0.051118211 0.022364217 0.022364217 0.022364217\n",
       "  Blond 0.012779553 0.204472843 0.015974441 0.025559105\n"
      ]
     },
     "metadata": {},
     "output_type": "display_data"
    }
   ],
   "source": [
    "\n",
    "prop.table(HairEyeColor, margin = 3) # Frecuencia marginal por genero"
   ]
  },
  {
   "cell_type": "code",
   "execution_count": 4,
   "metadata": {
    "vscode": {
     "languageId": "r"
    }
   },
   "outputs": [
    {
     "data": {
      "text/plain": [
       ", , Sex = Male\n",
       "\n",
       "       Eye\n",
       "Hair        Brown      Blue     Hazel     Green\n",
       "  Black 0.4705882 0.5500000 0.6666667 0.6000000\n",
       "  Brown 0.4453782 0.5952381 0.4629630 0.5172414\n",
       "  Red   0.3846154 0.5882353 0.5000000 0.5000000\n",
       "  Blond 0.4285714 0.3191489 0.5000000 0.5000000\n",
       "\n",
       ", , Sex = Female\n",
       "\n",
       "       Eye\n",
       "Hair        Brown      Blue     Hazel     Green\n",
       "  Black 0.5294118 0.4500000 0.3333333 0.4000000\n",
       "  Brown 0.5546218 0.4047619 0.5370370 0.4827586\n",
       "  Red   0.6153846 0.4117647 0.5000000 0.5000000\n",
       "  Blond 0.5714286 0.6808511 0.5000000 0.5000000\n"
      ]
     },
     "metadata": {},
     "output_type": "display_data"
    }
   ],
   "source": [
    "prop.table(HairEyeColor, margin = c(1,2)) # Frecuencia conjunta por color de cabello y color de ojos"
   ]
  },
  {
   "cell_type": "code",
   "execution_count": 5,
   "metadata": {
    "vscode": {
     "languageId": "r"
    }
   },
   "outputs": [
    {
     "data": {
      "text/plain": [
       ", , Eye = Brown\n",
       "\n",
       "        Hair\n",
       "Sex      Black Brown Red Blond\n",
       "  Male      32    53  10     3\n",
       "  Female    36    66  16     4\n",
       "\n",
       ", , Eye = Blue\n",
       "\n",
       "        Hair\n",
       "Sex      Black Brown Red Blond\n",
       "  Male      11    50  10    30\n",
       "  Female     9    34   7    64\n",
       "\n",
       ", , Eye = Hazel\n",
       "\n",
       "        Hair\n",
       "Sex      Black Brown Red Blond\n",
       "  Male      10    25   7     5\n",
       "  Female     5    29   7     5\n",
       "\n",
       ", , Eye = Green\n",
       "\n",
       "        Hair\n",
       "Sex      Black Brown Red Blond\n",
       "  Male       3    15   7     8\n",
       "  Female     2    14   7     8\n"
      ]
     },
     "metadata": {},
     "output_type": "display_data"
    }
   ],
   "source": [
    "aperm(HairEyeColor,\n",
    "    perm = c(\"Sex\", \"Hair\", \"Eye\")) # sex filas, hair columnas, eye capas"
   ]
  },
  {
   "cell_type": "code",
   "execution_count": 6,
   "metadata": {
    "vscode": {
     "languageId": "r"
    }
   },
   "outputs": [],
   "source": [
    "#install.packages(\"kableExtra\")"
   ]
  },
  {
   "cell_type": "code",
   "execution_count": 7,
   "metadata": {
    "vscode": {
     "languageId": "r"
    }
   },
   "outputs": [
    {
     "data": {
      "text/plain": [
       "\n",
       "\n",
       "|Hair  |Eye   |Sex    | Freq|\n",
       "|:-----|:-----|:------|----:|\n",
       "|Black |Brown |Male   |   32|\n",
       "|Brown |Brown |Male   |   53|\n",
       "|Red   |Brown |Male   |   10|\n",
       "|Blond |Brown |Male   |    3|\n",
       "|Black |Blue  |Male   |   11|\n",
       "|Brown |Blue  |Male   |   50|\n",
       "|Red   |Blue  |Male   |   10|\n",
       "|Blond |Blue  |Male   |   30|\n",
       "|Black |Hazel |Male   |   10|\n",
       "|Brown |Hazel |Male   |   25|\n",
       "|Red   |Hazel |Male   |    7|\n",
       "|Blond |Hazel |Male   |    5|\n",
       "|Black |Green |Male   |    3|\n",
       "|Brown |Green |Male   |   15|\n",
       "|Red   |Green |Male   |    7|\n",
       "|Blond |Green |Male   |    8|\n",
       "|Black |Brown |Female |   36|\n",
       "|Brown |Brown |Female |   66|\n",
       "|Red   |Brown |Female |   16|\n",
       "|Blond |Brown |Female |    4|\n",
       "|Black |Blue  |Female |    9|\n",
       "|Brown |Blue  |Female |   34|\n",
       "|Red   |Blue  |Female |    7|\n",
       "|Blond |Blue  |Female |   64|\n",
       "|Black |Hazel |Female |    5|\n",
       "|Brown |Hazel |Female |   29|\n",
       "|Red   |Hazel |Female |    7|\n",
       "|Blond |Hazel |Female |    5|\n",
       "|Black |Green |Female |    2|\n",
       "|Brown |Green |Female |   14|\n",
       "|Red   |Green |Female |    7|\n",
       "|Blond |Green |Female |    8|"
      ]
     },
     "metadata": {},
     "output_type": "display_data"
    }
   ],
   "source": [
    "library(kableExtra)\n",
    "kable(HairEyeColor) "
   ]
  }
 ],
 "metadata": {
  "kernelspec": {
   "display_name": "R",
   "language": "R",
   "name": "ir"
  },
  "language_info": {
   "codemirror_mode": "r",
   "file_extension": ".r",
   "mimetype": "text/x-r-source",
   "name": "R",
   "pygments_lexer": "r",
   "version": "4.4.2"
  }
 },
 "nbformat": 4,
 "nbformat_minor": 2
}
