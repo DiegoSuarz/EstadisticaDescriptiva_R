{
 "cells": [
  {
   "cell_type": "markdown",
   "metadata": {},
   "source": [
    "## Instalacion Packetes"
   ]
  },
  {
   "cell_type": "code",
   "execution_count": null,
   "metadata": {
    "vscode": {
     "languageId": "r"
    }
   },
   "outputs": [],
   "source": [
    "install.packages(\"tidyverse\",dep=TRUE)"
   ]
  },
  {
   "cell_type": "code",
   "execution_count": null,
   "metadata": {
    "vscode": {
     "languageId": "r"
    }
   },
   "outputs": [],
   "source": [
    "library(tidyverse)"
   ]
  },
  {
   "cell_type": "code",
   "execution_count": null,
   "metadata": {
    "vscode": {
     "languageId": "r"
    }
   },
   "outputs": [],
   "source": [
    "install.packages(\"magic\",dep=TRUE)"
   ]
  },
  {
   "cell_type": "code",
   "execution_count": null,
   "metadata": {
    "vscode": {
     "languageId": "r"
    }
   },
   "outputs": [],
   "source": [
    "library(magic) "
   ]
  },
  {
   "cell_type": "code",
   "execution_count": null,
   "metadata": {
    "vscode": {
     "languageId": "r"
    }
   },
   "outputs": [],
   "source": [
    "installed.packages()"
   ]
  },
  {
   "cell_type": "code",
   "execution_count": null,
   "metadata": {
    "vscode": {
     "languageId": "r"
    }
   },
   "outputs": [],
   "source": [
    "install.packages(\"languageserver\")"
   ]
  },
  {
   "cell_type": "code",
   "execution_count": null,
   "metadata": {
    "vscode": {
     "languageId": "r"
    }
   },
   "outputs": [],
   "source": [
    "\n",
    "install.packages(c('repr', 'IRdisplay', 'evaluate', 'crayon', 'pbdZMQ', 'devtools', 'uuid', 'digest'))"
   ]
  },
  {
   "cell_type": "code",
   "execution_count": null,
   "metadata": {
    "vscode": {
     "languageId": "r"
    }
   },
   "outputs": [],
   "source": [
    "devtools::install_github('IRkernel/IRkernel',force = TRUE)"
   ]
  },
  {
   "cell_type": "markdown",
   "metadata": {},
   "source": [
    "## Redondeo Numeros"
   ]
  },
  {
   "cell_type": "code",
   "execution_count": 1,
   "metadata": {
    "vscode": {
     "languageId": "r"
    }
   },
   "outputs": [
    {
     "name": "stdout",
     "output_type": "stream",
     "text": [
      "[1] 1.414213562\n"
     ]
    }
   ],
   "source": [
    "print(sqrt(2),10)"
   ]
  },
  {
   "cell_type": "code",
   "execution_count": 2,
   "metadata": {
    "vscode": {
     "languageId": "r"
    }
   },
   "outputs": [
    {
     "data": {
      "text/html": [
       "1"
      ],
      "text/latex": [
       "1"
      ],
      "text/markdown": [
       "1"
      ],
      "text/plain": [
       "[1] 1"
      ]
     },
     "metadata": {},
     "output_type": "display_data"
    }
   ],
   "source": [
    "round(sqrt(2))"
   ]
  },
  {
   "cell_type": "code",
   "execution_count": 3,
   "metadata": {
    "vscode": {
     "languageId": "r"
    }
   },
   "outputs": [
    {
     "data": {
      "text/html": [
       "1"
      ],
      "text/latex": [
       "1"
      ],
      "text/markdown": [
       "1"
      ],
      "text/plain": [
       "[1] 1"
      ]
     },
     "metadata": {},
     "output_type": "display_data"
    }
   ],
   "source": [
    "floor(sqrt(2)) # Parte entera de x mas pequeña"
   ]
  },
  {
   "cell_type": "code",
   "execution_count": 4,
   "metadata": {
    "vscode": {
     "languageId": "r"
    }
   },
   "outputs": [
    {
     "data": {
      "text/html": [
       "2"
      ],
      "text/latex": [
       "2"
      ],
      "text/markdown": [
       "2"
      ],
      "text/plain": [
       "[1] 2"
      ]
     },
     "metadata": {},
     "output_type": "display_data"
    }
   ],
   "source": [
    "ceiling(sqrt(2)) # Prate entera por exceso de x, mas grande"
   ]
  },
  {
   "cell_type": "code",
   "execution_count": 5,
   "metadata": {
    "vscode": {
     "languageId": "r"
    }
   },
   "outputs": [
    {
     "data": {
      "text/html": [
       "1"
      ],
      "text/latex": [
       "1"
      ],
      "text/markdown": [
       "1"
      ],
      "text/plain": [
       "[1] 1"
      ]
     },
     "metadata": {},
     "output_type": "display_data"
    }
   ],
   "source": [
    "trunc(sqrt(2)) # Parte entera de x, eliminando la parte decimal"
   ]
  },
  {
   "cell_type": "code",
   "execution_count": 6,
   "metadata": {
    "vscode": {
     "languageId": "r"
    }
   },
   "outputs": [
    {
     "data": {
      "text/html": [
       "1125899906842624"
      ],
      "text/latex": [
       "1125899906842624"
      ],
      "text/markdown": [
       "1125899906842624"
      ],
      "text/plain": [
       "[1] 1.1259e+15"
      ]
     },
     "metadata": {},
     "output_type": "display_data"
    }
   ],
   "source": [
    "2^50\n"
   ]
  },
  {
   "cell_type": "code",
   "execution_count": 7,
   "metadata": {
    "vscode": {
     "languageId": "r"
    }
   },
   "outputs": [
    {
     "name": "stdout",
     "output_type": "stream",
     "text": [
      "[1] 1125899906842624\n"
     ]
    }
   ],
   "source": [
    "print(2^50,15)"
   ]
  },
  {
   "cell_type": "code",
   "execution_count": 8,
   "metadata": {
    "vscode": {
     "languageId": "r"
    }
   },
   "outputs": [
    {
     "name": "stdout",
     "output_type": "stream",
     "text": [
      "[1] 1.1e+15\n"
     ]
    }
   ],
   "source": [
    "print(2^50,2)"
   ]
  },
  {
   "cell_type": "code",
   "execution_count": 9,
   "metadata": {
    "vscode": {
     "languageId": "r"
    }
   },
   "outputs": [
    {
     "data": {
      "text/html": [
       "1.9999899241"
      ],
      "text/latex": [
       "1.9999899241"
      ],
      "text/markdown": [
       "1.9999899241"
      ],
      "text/plain": [
       "[1] 1.99999"
      ]
     },
     "metadata": {},
     "output_type": "display_data"
    }
   ],
   "source": [
    "round(sqrt(2),5)^2"
   ]
  },
  {
   "cell_type": "code",
   "execution_count": 10,
   "metadata": {
    "vscode": {
     "languageId": "r"
    }
   },
   "outputs": [
    {
     "data": {
      "text/html": [
       "1.4"
      ],
      "text/latex": [
       "1.4"
      ],
      "text/markdown": [
       "1.4"
      ],
      "text/plain": [
       "[1] 1.4"
      ]
     },
     "metadata": {},
     "output_type": "display_data"
    }
   ],
   "source": [
    "round(1.35,1)"
   ]
  },
  {
   "cell_type": "code",
   "execution_count": 11,
   "metadata": {
    "vscode": {
     "languageId": "r"
    }
   },
   "outputs": [
    {
     "data": {
      "text/html": [
       "1"
      ],
      "text/latex": [
       "1"
      ],
      "text/markdown": [
       "1"
      ],
      "text/plain": [
       "[1] 1"
      ]
     },
     "metadata": {},
     "output_type": "display_data"
    }
   ],
   "source": [
    "round(sqrt(2),0) #ajustar al entero mas cercano"
   ]
  },
  {
   "cell_type": "code",
   "execution_count": 12,
   "metadata": {
    "vscode": {
     "languageId": "r"
    }
   },
   "outputs": [
    {
     "data": {
      "text/html": [
       "1.41421"
      ],
      "text/latex": [
       "1.41421"
      ],
      "text/markdown": [
       "1.41421"
      ],
      "text/plain": [
       "[1] 1.41421"
      ]
     },
     "metadata": {},
     "output_type": "display_data"
    }
   ],
   "source": [
    "round(digits = 5, sqrt(2))"
   ]
  },
  {
   "cell_type": "markdown",
   "metadata": {},
   "source": [
    "## Variables"
   ]
  },
  {
   "cell_type": "code",
   "execution_count": 13,
   "metadata": {
    "vscode": {
     "languageId": "r"
    }
   },
   "outputs": [
    {
     "data": {
      "text/html": [
       "4.93480220054468"
      ],
      "text/latex": [
       "4.93480220054468"
      ],
      "text/markdown": [
       "4.93480220054468"
      ],
      "text/plain": [
       "[1] 4.934802"
      ]
     },
     "metadata": {},
     "output_type": "display_data"
    }
   ],
   "source": [
    "x = (pi^2)/2\n",
    "x"
   ]
  },
  {
   "cell_type": "code",
   "execution_count": 14,
   "metadata": {
    "vscode": {
     "languageId": "r"
    }
   },
   "outputs": [
    {
     "data": {
      "text/html": [
       "0.707106781186548"
      ],
      "text/latex": [
       "0.707106781186548"
      ],
      "text/markdown": [
       "0.707106781186548"
      ],
      "text/plain": [
       "[1] 0.7071068"
      ]
     },
     "metadata": {},
     "output_type": "display_data"
    }
   ],
   "source": [
    "y <- cos(pi/4)\n",
    "y"
   ]
  },
  {
   "cell_type": "code",
   "execution_count": 15,
   "metadata": {
    "vscode": {
     "languageId": "r"
    }
   },
   "outputs": [
    {
     "data": {
      "text/html": [
       "1.41421356237309"
      ],
      "text/latex": [
       "1.41421356237309"
      ],
      "text/markdown": [
       "1.41421356237309"
      ],
      "text/plain": [
       "[1] 1.414214"
      ]
     },
     "metadata": {},
     "output_type": "display_data"
    }
   ],
   "source": [
    "sin(pi/4) + cos(pi/4) -> z\n",
    "z"
   ]
  },
  {
   "cell_type": "code",
   "execution_count": 17,
   "metadata": {
    "vscode": {
     "languageId": "r"
    }
   },
   "outputs": [
    {
     "data": {
      "text/html": [
       "30"
      ],
      "text/latex": [
       "30"
      ],
      "text/markdown": [
       "30"
      ],
      "text/plain": [
       "[1] 30"
      ]
     },
     "metadata": {},
     "output_type": "display_data"
    }
   ],
   "source": [
    "edad <- 30\n",
    "edad"
   ]
  },
  {
   "cell_type": "code",
   "execution_count": 18,
   "metadata": {
    "vscode": {
     "languageId": "r"
    }
   },
   "outputs": [
    {
     "data": {
      "text/html": [
       "'Juan Gabriel'"
      ],
      "text/latex": [
       "'Juan Gabriel'"
      ],
      "text/markdown": [
       "'Juan Gabriel'"
      ],
      "text/plain": [
       "[1] \"Juan Gabriel\""
      ]
     },
     "metadata": {},
     "output_type": "display_data"
    }
   ],
   "source": [
    "nombre = \"Juan Gabriel\"\n",
    "nombre"
   ]
  },
  {
   "cell_type": "code",
   "execution_count": 19,
   "metadata": {
    "vscode": {
     "languageId": "r"
    }
   },
   "outputs": [],
   "source": [
    "HOLA = 1\n",
    "hola = 5"
   ]
  },
  {
   "cell_type": "code",
   "execution_count": 20,
   "metadata": {
    "vscode": {
     "languageId": "r"
    }
   },
   "outputs": [
    {
     "data": {
      "text/html": [
       "12.5663706143592"
      ],
      "text/latex": [
       "12.5663706143592"
      ],
      "text/markdown": [
       "12.5663706143592"
      ],
      "text/plain": [
       "[1] 12.56637"
      ]
     },
     "metadata": {},
     "output_type": "display_data"
    }
   ],
   "source": [
    "pi.4 = 4*pi\n",
    "pi.4"
   ]
  },
  {
   "cell_type": "code",
   "execution_count": 21,
   "metadata": {
    "vscode": {
     "languageId": "r"
    }
   },
   "outputs": [
    {
     "data": {
      "text/html": [
       "24.3522727585006"
      ],
      "text/latex": [
       "24.3522727585006"
      ],
      "text/markdown": [
       "24.3522727585006"
      ],
      "text/plain": [
       "[1] 24.35227"
      ]
     },
     "metadata": {},
     "output_type": "display_data"
    }
   ],
   "source": [
    "x = x^2\n",
    "x"
   ]
  },
  {
   "cell_type": "code",
   "execution_count": 22,
   "metadata": {
    "vscode": {
     "languageId": "r"
    }
   },
   "outputs": [
    {
     "data": {
      "text/html": [
       "4.93480220054468"
      ],
      "text/latex": [
       "4.93480220054468"
      ],
      "text/markdown": [
       "4.93480220054468"
      ],
      "text/plain": [
       "[1] 4.934802"
      ]
     },
     "metadata": {},
     "output_type": "display_data"
    }
   ],
   "source": [
    "x = sqrt(x)\n",
    "x"
   ]
  },
  {
   "cell_type": "markdown",
   "metadata": {},
   "source": [
    "## Funciones"
   ]
  },
  {
   "cell_type": "code",
   "execution_count": 23,
   "metadata": {
    "vscode": {
     "languageId": "r"
    }
   },
   "outputs": [
    {
     "data": {
      "text/html": [
       "73.0816299436951"
      ],
      "text/latex": [
       "73.0816299436951"
      ],
      "text/markdown": [
       "73.0816299436951"
      ],
      "text/plain": [
       "[1] 73.08163"
      ]
     },
     "metadata": {},
     "output_type": "display_data"
    }
   ],
   "source": [
    "## Funcion f(x) = x^3 - 3^x\n",
    "\n",
    "f = function(x){ x^3-(3*x)*sin(x)}\n",
    "f(4)"
   ]
  },
  {
   "cell_type": "code",
   "execution_count": 24,
   "metadata": {
    "vscode": {
     "languageId": "r"
    }
   },
   "outputs": [
    {
     "data": {
      "text/html": [
       "488.255402081039"
      ],
      "text/latex": [
       "488.255402081039"
      ],
      "text/markdown": [
       "488.255402081039"
      ],
      "text/plain": [
       "[1] 488.2554"
      ]
     },
     "metadata": {},
     "output_type": "display_data"
    },
    {
     "data": {
      "text/html": [
       "-0.836604395347213"
      ],
      "text/latex": [
       "-0.836604395347213"
      ],
      "text/markdown": [
       "-0.836604395347213"
      ],
      "text/plain": [
       "[1] -0.8366044"
      ]
     },
     "metadata": {},
     "output_type": "display_data"
    }
   ],
   "source": [
    "f(8)\n",
    "f(pi/2)"
   ]
  },
  {
   "cell_type": "code",
   "execution_count": 25,
   "metadata": {
    "vscode": {
     "languageId": "r"
    }
   },
   "outputs": [
    {
     "data": {
      "text/html": [
       "25"
      ],
      "text/latex": [
       "25"
      ],
      "text/markdown": [
       "25"
      ],
      "text/plain": [
       "[1] 25"
      ]
     },
     "metadata": {},
     "output_type": "display_data"
    }
   ],
   "source": [
    "g <- function(x){x^2}\n",
    "g(5)"
   ]
  },
  {
   "cell_type": "code",
   "execution_count": 26,
   "metadata": {
    "vscode": {
     "languageId": "r"
    }
   },
   "outputs": [
    {
     "data": {
      "text/html": [
       "24"
      ],
      "text/latex": [
       "24"
      ],
      "text/markdown": [
       "24"
      ],
      "text/plain": [
       "[1] 24"
      ]
     },
     "metadata": {},
     "output_type": "display_data"
    }
   ],
   "source": [
    "producto <- function(x,y){\n",
    "  x*y\n",
    "}\n",
    "\n",
    "producto(4,6)"
   ]
  },
  {
   "cell_type": "code",
   "execution_count": 27,
   "metadata": {
    "vscode": {
     "languageId": "r"
    }
   },
   "outputs": [
    {
     "data": {
      "text/html": [
       "-33499320534684364800"
      ],
      "text/latex": [
       "-33499320534684364800"
      ],
      "text/markdown": [
       "-33499320534684364800"
      ],
      "text/plain": [
       "[1] -3.349932e+19"
      ]
     },
     "metadata": {},
     "output_type": "display_data"
    }
   ],
   "source": [
    "g <- function(x,y,z){\n",
    "  exp(x^2+y^2)*sin(z)\n",
    "}\n",
    "g(6,3,5)"
   ]
  },
  {
   "cell_type": "code",
   "execution_count": 28,
   "metadata": {
    "vscode": {
     "languageId": "r"
    }
   },
   "outputs": [
    {
     "data": {
      "text/html": [
       "<style>\n",
       ".list-inline {list-style: none; margin:0; padding: 0}\n",
       ".list-inline>li {display: inline-block}\n",
       ".list-inline>li:not(:last-child)::after {content: \"\\00b7\"; padding: 0 .5ex}\n",
       "</style>\n",
       "<ol class=list-inline><li>'edad'</li><li>'f'</li><li>'g'</li><li>'hola'</li><li>'HOLA'</li><li>'nombre'</li><li>'opBasic'</li><li>'pi.4'</li><li>'producto'</li><li>'x'</li><li>'y'</li><li>'z'</li><li>'z1'</li><li>'z2'</li></ol>\n"
      ],
      "text/latex": [
       "\\begin{enumerate*}\n",
       "\\item 'edad'\n",
       "\\item 'f'\n",
       "\\item 'g'\n",
       "\\item 'hola'\n",
       "\\item 'HOLA'\n",
       "\\item 'nombre'\n",
       "\\item 'opBasic'\n",
       "\\item 'pi.4'\n",
       "\\item 'producto'\n",
       "\\item 'x'\n",
       "\\item 'y'\n",
       "\\item 'z'\n",
       "\\item 'z1'\n",
       "\\item 'z2'\n",
       "\\end{enumerate*}\n"
      ],
      "text/markdown": [
       "1. 'edad'\n",
       "2. 'f'\n",
       "3. 'g'\n",
       "4. 'hola'\n",
       "5. 'HOLA'\n",
       "6. 'nombre'\n",
       "7. 'opBasic'\n",
       "8. 'pi.4'\n",
       "9. 'producto'\n",
       "10. 'x'\n",
       "11. 'y'\n",
       "12. 'z'\n",
       "13. 'z1'\n",
       "14. 'z2'\n",
       "\n",
       "\n"
      ],
      "text/plain": [
       " [1] \"edad\"     \"f\"        \"g\"        \"hola\"     \"HOLA\"     \"nombre\"  \n",
       " [7] \"opBasic\"  \"pi.4\"     \"producto\" \"x\"        \"y\"        \"z\"       \n",
       "[13] \"z1\"       \"z2\"      "
      ]
     },
     "metadata": {},
     "output_type": "display_data"
    }
   ],
   "source": [
    "ls() # Enlista las variables utilizadas"
   ]
  },
  {
   "cell_type": "code",
   "execution_count": 29,
   "metadata": {
    "vscode": {
     "languageId": "r"
    }
   },
   "outputs": [],
   "source": [
    "rm(g) # Eliminar una variable"
   ]
  },
  {
   "cell_type": "code",
   "execution_count": 30,
   "metadata": {
    "vscode": {
     "languageId": "r"
    }
   },
   "outputs": [],
   "source": [
    "rm(list = ls() ) # Eliminar todas las variables"
   ]
  },
  {
   "cell_type": "code",
   "execution_count": 31,
   "metadata": {
    "vscode": {
     "languageId": "r"
    }
   },
   "outputs": [
    {
     "data": {
      "text/html": [],
      "text/latex": [],
      "text/markdown": [],
      "text/plain": [
       "character(0)"
      ]
     },
     "metadata": {},
     "output_type": "display_data"
    }
   ],
   "source": [
    "ls()"
   ]
  },
  {
   "cell_type": "code",
   "execution_count": 32,
   "metadata": {
    "vscode": {
     "languageId": "r"
    }
   },
   "outputs": [
    {
     "name": "stdout",
     "output_type": "stream",
     "text": [
      "[1] \"Suma\"\n",
      "[1] 10\n",
      "[1] \"resta\"\n",
      "[1] \"4 - 6 =  -2\"\n",
      "[1] \"6 - 4 =  2\"\n",
      "[1] -2\n",
      "[1] \"Multiplicacion\"\n",
      "[1] 24\n",
      "[1] \"Division\"\n",
      "[1] 0.6666667\n",
      "[1] \"Cociente de la division entera\"\n",
      "[1] 0\n",
      "[1] \"Resto de la division entera\"\n",
      "[1] 4\n"
     ]
    }
   ],
   "source": [
    "# Ejercicio funciones:\n",
    "opBasic = function(a,b){\n",
    "  print(\"Suma\")\n",
    "  print(a+b)\n",
    "  print(\"resta\")\n",
    "  print(paste(sprintf(\"%i - %i = \",a,b),a-b))\n",
    "  print(paste(sprintf(\"%i - %i = \",b,a),b-a))\n",
    "  print(a-b)\n",
    "  print(\"Multiplicacion\")\n",
    "  print(a*b)\n",
    "  print(\"Division\")\n",
    "  print(a/b)\n",
    "  print(\"Cociente de la division entera\")\n",
    "  print(a%/%b)\n",
    "  print(\"Resto de la division entera\")\n",
    "  print(a%%b)\n",
    "}\n",
    "\n",
    "opBasic(4,6)"
   ]
  },
  {
   "cell_type": "markdown",
   "metadata": {},
   "source": [
    "## Numeros complejos:"
   ]
  },
  {
   "cell_type": "code",
   "execution_count": null,
   "metadata": {
    "vscode": {
     "languageId": "r"
    }
   },
   "outputs": [],
   "source": [
    "3+2i\n",
    "class(3+2i)"
   ]
  },
  {
   "cell_type": "code",
   "execution_count": 33,
   "metadata": {
    "vscode": {
     "languageId": "r"
    }
   },
   "outputs": [
    {
     "data": {
      "text/html": [
       "15+10i"
      ],
      "text/latex": [
       "15+10i"
      ],
      "text/markdown": [
       "15+10i"
      ],
      "text/plain": [
       "[1] 15+10i"
      ]
     },
     "metadata": {},
     "output_type": "display_data"
    }
   ],
   "source": [
    "(3+2i)*5"
   ]
  },
  {
   "cell_type": "code",
   "execution_count": 34,
   "metadata": {
    "vscode": {
     "languageId": "r"
    }
   },
   "outputs": [
    {
     "data": {
      "text/html": [
       "-9+7i"
      ],
      "text/latex": [
       "-9+7i"
      ],
      "text/markdown": [
       "-9+7i"
      ],
      "text/plain": [
       "[1] -9+7i"
      ]
     },
     "metadata": {},
     "output_type": "display_data"
    }
   ],
   "source": [
    "(3+2i)*(-1+3i)"
   ]
  },
  {
   "cell_type": "code",
   "execution_count": 35,
   "metadata": {
    "vscode": {
     "languageId": "r"
    }
   },
   "outputs": [
    {
     "data": {
      "text/html": [
       "0.3-1.1i"
      ],
      "text/latex": [
       "0.3-1.1i"
      ],
      "text/markdown": [
       "0.3-1.1i"
      ],
      "text/plain": [
       "[1] 0.3-1.1i"
      ]
     },
     "metadata": {},
     "output_type": "display_data"
    }
   ],
   "source": [
    "(3+2i)/(-1+3i)"
   ]
  },
  {
   "cell_type": "code",
   "execution_count": 36,
   "metadata": {
    "vscode": {
     "languageId": "r"
    }
   },
   "outputs": [],
   "source": [
    "#Esto es un error:\n",
    "#2+7*i"
   ]
  },
  {
   "cell_type": "code",
   "execution_count": 37,
   "metadata": {
    "vscode": {
     "languageId": "r"
    }
   },
   "outputs": [
    {
     "data": {
      "text/html": [
       "3.14159265358979+1.4142135623731i"
      ],
      "text/latex": [
       "3.14159265358979+1.4142135623731i"
      ],
      "text/markdown": [
       "3.14159265358979+1.4142135623731i"
      ],
      "text/plain": [
       "[1] 3.141593+1.414214i"
      ]
     },
     "metadata": {},
     "output_type": "display_data"
    }
   ],
   "source": [
    "complex(real = pi, imaginary = sqrt(2)) -> z1\n",
    "z1"
   ]
  },
  {
   "cell_type": "code",
   "execution_count": 38,
   "metadata": {
    "vscode": {
     "languageId": "r"
    }
   },
   "outputs": [
    {
     "data": {
      "text/html": [
       "0+2.23606797749979i"
      ],
      "text/latex": [
       "0+2.23606797749979i"
      ],
      "text/markdown": [
       "0+2.23606797749979i"
      ],
      "text/plain": [
       "[1] 0+2.236068i"
      ]
     },
     "metadata": {},
     "output_type": "display_data"
    }
   ],
   "source": [
    "sqrt(as.complex(-5))"
   ]
  },
  {
   "cell_type": "code",
   "execution_count": null,
   "metadata": {
    "vscode": {
     "languageId": "r"
    }
   },
   "outputs": [],
   "source": [
    "# La raiz cuadrada devuelve, de las dos soluciones la de \n",
    "# Re(z) >0, para obtener la otra, hay que multiplicar por -1\n",
    "sqrt(3+2i)"
   ]
  },
  {
   "cell_type": "code",
   "execution_count": 39,
   "metadata": {
    "vscode": {
     "languageId": "r"
    }
   },
   "outputs": [
    {
     "data": {
      "text/html": [
       "-8.35853265093537+18.2637270406668i"
      ],
      "text/latex": [
       "-8.35853265093537+18.2637270406668i"
      ],
      "text/markdown": [
       "-8.35853265093537+18.2637270406668i"
      ],
      "text/plain": [
       "[1] -8.358533+18.26373i"
      ]
     },
     "metadata": {},
     "output_type": "display_data"
    }
   ],
   "source": [
    "exp(3+2i)"
   ]
  },
  {
   "cell_type": "code",
   "execution_count": 40,
   "metadata": {
    "vscode": {
     "languageId": "r"
    }
   },
   "outputs": [
    {
     "data": {
      "text/html": [
       "0.53092108624852-3.59056458998578i"
      ],
      "text/latex": [
       "0.53092108624852-3.59056458998578i"
      ],
      "text/markdown": [
       "0.53092108624852-3.59056458998578i"
      ],
      "text/plain": [
       "[1] 0.5309211-3.590565i"
      ]
     },
     "metadata": {},
     "output_type": "display_data"
    }
   ],
   "source": [
    "sin(3+2i)"
   ]
  },
  {
   "cell_type": "code",
   "execution_count": 41,
   "metadata": {
    "vscode": {
     "languageId": "r"
    }
   },
   "outputs": [
    {
     "data": {
      "text/html": [
       "-3.72454550491532-0.511822569987385i"
      ],
      "text/latex": [
       "-3.72454550491532-0.511822569987385i"
      ],
      "text/markdown": [
       "-3.72454550491532-0.511822569987385i"
      ],
      "text/plain": [
       "[1] -3.724546-0.5118226i"
      ]
     },
     "metadata": {},
     "output_type": "display_data"
    }
   ],
   "source": [
    "cos(3+2i)"
   ]
  },
  {
   "cell_type": "code",
   "execution_count": 42,
   "metadata": {
    "vscode": {
     "languageId": "r"
    }
   },
   "outputs": [
    {
     "data": {
      "text/html": [
       "3.44522922330131"
      ],
      "text/latex": [
       "3.44522922330131"
      ],
      "text/markdown": [
       "3.44522922330131"
      ],
      "text/plain": [
       "[1] 3.445229"
      ]
     },
     "metadata": {},
     "output_type": "display_data"
    }
   ],
   "source": [
    "# Modulo = sqrt(Re(z)^2 + Im(z)^2)\n",
    "Mod(z1)"
   ]
  },
  {
   "cell_type": "code",
   "execution_count": 43,
   "metadata": {
    "vscode": {
     "languageId": "r"
    }
   },
   "outputs": [
    {
     "data": {
      "text/html": [
       "0.422985442737893"
      ],
      "text/latex": [
       "0.422985442737893"
      ],
      "text/markdown": [
       "0.422985442737893"
      ],
      "text/plain": [
       "[1] 0.4229854"
      ]
     },
     "metadata": {},
     "output_type": "display_data"
    }
   ],
   "source": [
    "# Argumento = arctan(Im(z)/Re(z))  va de \n",
    "#  = arccos(Re(z)/Mod(z))\n",
    "#  = arcsin(Im(z)/Mod(z))\n",
    "Arg(z1)"
   ]
  },
  {
   "cell_type": "code",
   "execution_count": 45,
   "metadata": {
    "vscode": {
     "languageId": "r"
    }
   },
   "outputs": [
    {
     "data": {
      "text/html": [
       "3.14159265358979"
      ],
      "text/latex": [
       "3.14159265358979"
      ],
      "text/markdown": [
       "3.14159265358979"
      ],
      "text/plain": [
       "[1] 3.141593"
      ]
     },
     "metadata": {},
     "output_type": "display_data"
    }
   ],
   "source": [
    "#Arg va de (-pi, pi]\n",
    "Arg(-1+0i)"
   ]
  },
  {
   "cell_type": "code",
   "execution_count": 46,
   "metadata": {
    "vscode": {
     "languageId": "r"
    }
   },
   "outputs": [
    {
     "data": {
      "text/html": [
       "3.14159265358979-1.4142135623731i"
      ],
      "text/latex": [
       "3.14159265358979-1.4142135623731i"
      ],
      "text/markdown": [
       "3.14159265358979-1.4142135623731i"
      ],
      "text/plain": [
       "[1] 3.141593-1.414214i"
      ]
     },
     "metadata": {},
     "output_type": "display_data"
    }
   ],
   "source": [
    "#Conjugado = Re(z) - Im(z)i\n",
    "Conj(z1)"
   ]
  },
  {
   "cell_type": "code",
   "execution_count": 47,
   "metadata": {
    "vscode": {
     "languageId": "r"
    }
   },
   "outputs": [
    {
     "data": {
      "text/html": [
       "3.14159265358979"
      ],
      "text/latex": [
       "3.14159265358979"
      ],
      "text/markdown": [
       "3.14159265358979"
      ],
      "text/plain": [
       "[1] 3.141593"
      ]
     },
     "metadata": {},
     "output_type": "display_data"
    }
   ],
   "source": [
    "# Parte real:\n",
    "Re(z1)"
   ]
  },
  {
   "cell_type": "code",
   "execution_count": 48,
   "metadata": {
    "vscode": {
     "languageId": "r"
    }
   },
   "outputs": [
    {
     "data": {
      "text/html": [
       "1.4142135623731"
      ],
      "text/latex": [
       "1.4142135623731"
      ],
      "text/markdown": [
       "1.4142135623731"
      ],
      "text/plain": [
       "[1] 1.414214"
      ]
     },
     "metadata": {},
     "output_type": "display_data"
    }
   ],
   "source": [
    "# Parte Imaginaria:\n",
    "Im(z1)"
   ]
  },
  {
   "cell_type": "code",
   "execution_count": 49,
   "metadata": {
    "vscode": {
     "languageId": "r"
    }
   },
   "outputs": [
    {
     "data": {
      "text/html": [
       "1.22460635382238e-16+2i"
      ],
      "text/latex": [
       "1.22460635382238e-16+2i"
      ],
      "text/markdown": [
       "1.22460635382238e-16+2i"
      ],
      "text/plain": [
       "[1] 1.224606e-16+2i"
      ]
     },
     "metadata": {},
     "output_type": "display_data"
    }
   ],
   "source": [
    "#### z = Mod(z) * (cos(Arg(z))+ sin(Arg(z))i)\n",
    "complex(modulus = 2, argument = pi/2) ->  z2\n",
    "z2"
   ]
  },
  {
   "cell_type": "code",
   "execution_count": 50,
   "metadata": {
    "vscode": {
     "languageId": "r"
    }
   },
   "outputs": [
    {
     "data": {
      "text/html": [
       "2"
      ],
      "text/latex": [
       "2"
      ],
      "text/markdown": [
       "2"
      ],
      "text/plain": [
       "[1] 2"
      ]
     },
     "metadata": {},
     "output_type": "display_data"
    }
   ],
   "source": [
    "Mod(z2)  "
   ]
  },
  {
   "cell_type": "code",
   "execution_count": 51,
   "metadata": {
    "vscode": {
     "languageId": "r"
    }
   },
   "outputs": [
    {
     "data": {
      "text/html": [
       "1.5707963267949"
      ],
      "text/latex": [
       "1.5707963267949"
      ],
      "text/markdown": [
       "1.5707963267949"
      ],
      "text/plain": [
       "[1] 1.570796"
      ]
     },
     "metadata": {},
     "output_type": "display_data"
    }
   ],
   "source": [
    "Arg(z2)"
   ]
  }
 ],
 "metadata": {
  "kernelspec": {
   "display_name": "R",
   "language": "R",
   "name": "ir"
  },
  "language_info": {
   "codemirror_mode": "r",
   "file_extension": ".r",
   "mimetype": "text/x-r-source",
   "name": "R",
   "pygments_lexer": "r",
   "version": "4.4.2"
  }
 },
 "nbformat": 4,
 "nbformat_minor": 2
}
