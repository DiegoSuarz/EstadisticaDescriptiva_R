{
 "cells": [
  {
   "cell_type": "markdown",
   "metadata": {},
   "source": [
    "# Datos Multidimensionales:"
   ]
  },
  {
   "cell_type": "code",
   "execution_count": 1,
   "metadata": {
    "vscode": {
     "languageId": "r"
    }
   },
   "outputs": [
    {
     "data": {
      "text/plain": [
       ", , place = Asturias\n",
       "\n",
       "   ans\n",
       "sex No Si\n",
       "  H  4  6\n",
       "  M  5  7\n",
       "\n",
       ", , place = Barcelona\n",
       "\n",
       "   ans\n",
       "sex No Si\n",
       "  H  4  7\n",
       "  M  5  2\n",
       "\n",
       ", , place = Cobija\n",
       "\n",
       "   ans\n",
       "sex No Si\n",
       "  H  7  3\n",
       "  M  4  2\n",
       "\n",
       ", , place = San Francisco\n",
       "\n",
       "   ans\n",
       "sex No Si\n",
       "  H  7  3\n",
       "  M  7  7\n",
       "\n",
       ", , place = Valencia\n",
       "\n",
       "   ans\n",
       "sex No Si\n",
       "  H  6  4\n",
       "  M  4  6\n"
      ]
     },
     "metadata": {},
     "output_type": "display_data"
    }
   ],
   "source": [
    "# Ejemplo con tres dimensiones:\n",
    "\n",
    "ans = sample(c(\"Si\",\"No\"), size = 100, replace = TRUE) \n",
    "sex = sample(c(\"H\", \"M\"), size = 100, replace = TRUE)\n",
    "place = sample(c(\"San Francisco\", \"Barcelona\", \"Valencia\", \"Cobija\", \"Asturias\"), size = 100, replace = TRUE)\n",
    "\n",
    "table(sex, ans, place) # divide en tablas bidimensionales según el valor de la tercera variable"
   ]
  },
  {
   "cell_type": "code",
   "execution_count": 2,
   "metadata": {
    "vscode": {
     "languageId": "r"
    }
   },
   "outputs": [
    {
     "data": {
      "text/plain": [
       "        place Asturias Barcelona Cobija San Francisco Valencia\n",
       "sex ans                                                       \n",
       "H   No               4         4      7             7        6\n",
       "    Si               6         7      3             3        4\n",
       "M   No               5         5      4             7        4\n",
       "    Si               7         2      2             7        6"
      ]
     },
     "metadata": {},
     "output_type": "display_data"
    }
   ],
   "source": [
    "ftable(sex, ans, place) # tabla multidimensional"
   ]
  },
  {
   "cell_type": "code",
   "execution_count": 3,
   "metadata": {
    "vscode": {
     "languageId": "r"
    }
   },
   "outputs": [
    {
     "data": {
      "text/plain": [
       "              sex  H     M   \n",
       "              ans No Si No Si\n",
       "place                        \n",
       "Asturias           4  6  5  7\n",
       "Barcelona          4  7  5  2\n",
       "Cobija             7  3  4  2\n",
       "San Francisco      7  3  7  7\n",
       "Valencia           6  4  4  6"
      ]
     },
     "metadata": {},
     "output_type": "display_data"
    }
   ],
   "source": [
    " \n",
    "ftable(sex, ans, place, col.vars = c(\"sex\", \"ans\")) # tabla multidimensional con colores"
   ]
  },
  {
   "cell_type": "markdown",
   "metadata": {},
   "source": [
    "## Filtrar las tablas"
   ]
  },
  {
   "cell_type": "code",
   "execution_count": 4,
   "metadata": {
    "vscode": {
     "languageId": "r"
    }
   },
   "outputs": [
    {
     "data": {
      "text/html": [
       "7"
      ],
      "text/latex": [
       "7"
      ],
      "text/markdown": [
       "7"
      ],
      "text/plain": [
       "[1] 7"
      ]
     },
     "metadata": {},
     "output_type": "display_data"
    }
   ],
   "source": [
    "\n",
    "table(sex, ans, place)[\"M\", \"Si\", \"San Francisco\"] # todas las mujeres que dijeron si en San Francisco"
   ]
  },
  {
   "cell_type": "code",
   "execution_count": 5,
   "metadata": {
    "vscode": {
     "languageId": "r"
    }
   },
   "outputs": [
    {
     "data": {
      "text/html": [
       "<style>\n",
       ".dl-inline {width: auto; margin:0; padding: 0}\n",
       ".dl-inline>dt, .dl-inline>dd {float: none; width: auto; display: inline-block}\n",
       ".dl-inline>dt::after {content: \":\\0020\"; padding-right: .5ex}\n",
       ".dl-inline>dt:not(:first-of-type) {padding-left: .5ex}\n",
       "</style><dl class=dl-inline><dt>H</dt><dd>4</dd><dt>M</dt><dd>6</dd></dl>\n"
      ],
      "text/latex": [
       "\\begin{description*}\n",
       "\\item[H] 4\n",
       "\\item[M] 6\n",
       "\\end{description*}\n"
      ],
      "text/markdown": [
       "H\n",
       ":   4M\n",
       ":   6\n",
       "\n"
      ],
      "text/plain": [
       "H M \n",
       "4 6 "
      ]
     },
     "metadata": {},
     "output_type": "display_data"
    }
   ],
   "source": [
    "\n",
    "table(sex, ans, place)[, \"Si\", \"Valencia\"] # todas las personas que dijeron si en Valencia"
   ]
  },
  {
   "cell_type": "code",
   "execution_count": 6,
   "metadata": {
    "vscode": {
     "languageId": "r"
    }
   },
   "outputs": [
    {
     "data": {
      "text/plain": [
       "   place\n",
       "sex Asturias Barcelona Cobija San Francisco Valencia\n",
       "  H        4         4      7             7        6\n",
       "  M        5         5      4             7        4"
      ]
     },
     "metadata": {},
     "output_type": "display_data"
    }
   ],
   "source": [
    "\n",
    "table(sex, ans, place)[, \"No\", ] # todas las personas que dijeron no"
   ]
  },
  {
   "cell_type": "code",
   "execution_count": 7,
   "metadata": {
    "vscode": {
     "languageId": "r"
    }
   },
   "outputs": [
    {
     "data": {
      "text/html": [
       "<style>\n",
       ".dl-inline {width: auto; margin:0; padding: 0}\n",
       ".dl-inline>dt, .dl-inline>dd {float: none; width: auto; display: inline-block}\n",
       ".dl-inline>dt::after {content: \":\\0020\"; padding-right: .5ex}\n",
       ".dl-inline>dt:not(:first-of-type) {padding-left: .5ex}\n",
       "</style><dl class=dl-inline><dt>No</dt><dd>4</dd><dt>Si</dt><dd>2</dd></dl>\n"
      ],
      "text/latex": [
       "\\begin{description*}\n",
       "\\item[No] 4\n",
       "\\item[Si] 2\n",
       "\\end{description*}\n"
      ],
      "text/markdown": [
       "No\n",
       ":   4Si\n",
       ":   2\n",
       "\n"
      ],
      "text/plain": [
       "No Si \n",
       " 4  2 "
      ]
     },
     "metadata": {},
     "output_type": "display_data"
    }
   ],
   "source": [
    "table(sex , ans, place)[\"M\", , \"Cobija\"] # todas las mujeres de Cobija"
   ]
  },
  {
   "cell_type": "markdown",
   "metadata": {},
   "source": [
    "## Frecuencias relativas:\n"
   ]
  },
  {
   "cell_type": "code",
   "execution_count": 8,
   "metadata": {
    "vscode": {
     "languageId": "r"
    }
   },
   "outputs": [
    {
     "data": {
      "text/plain": [
       ", , place = Asturias\n",
       "\n",
       "   ans\n",
       "sex   No   Si\n",
       "  H 0.04 0.06\n",
       "  M 0.05 0.07\n",
       "\n",
       ", , place = Barcelona\n",
       "\n",
       "   ans\n",
       "sex   No   Si\n",
       "  H 0.04 0.07\n",
       "  M 0.05 0.02\n",
       "\n",
       ", , place = Cobija\n",
       "\n",
       "   ans\n",
       "sex   No   Si\n",
       "  H 0.07 0.03\n",
       "  M 0.04 0.02\n",
       "\n",
       ", , place = San Francisco\n",
       "\n",
       "   ans\n",
       "sex   No   Si\n",
       "  H 0.07 0.03\n",
       "  M 0.07 0.07\n",
       "\n",
       ", , place = Valencia\n",
       "\n",
       "   ans\n",
       "sex   No   Si\n",
       "  H 0.06 0.04\n",
       "  M 0.04 0.06\n"
      ]
     },
     "metadata": {},
     "output_type": "display_data"
    }
   ],
   "source": [
    "prop.table(table(sex, ans, place)) # Frecuencias relativas globales"
   ]
  },
  {
   "cell_type": "code",
   "execution_count": 9,
   "metadata": {
    "vscode": {
     "languageId": "r"
    }
   },
   "outputs": [
    {
     "data": {
      "text/plain": [
       ", , place = Asturias\n",
       "\n",
       "   ans\n",
       "sex        No        Si\n",
       "  H 0.1818182 0.2727273\n",
       "  M 0.2272727 0.3181818\n",
       "\n",
       ", , place = Barcelona\n",
       "\n",
       "   ans\n",
       "sex        No        Si\n",
       "  H 0.2222222 0.3888889\n",
       "  M 0.2777778 0.1111111\n",
       "\n",
       ", , place = Cobija\n",
       "\n",
       "   ans\n",
       "sex        No        Si\n",
       "  H 0.4375000 0.1875000\n",
       "  M 0.2500000 0.1250000\n",
       "\n",
       ", , place = San Francisco\n",
       "\n",
       "   ans\n",
       "sex        No        Si\n",
       "  H 0.2916667 0.1250000\n",
       "  M 0.2916667 0.2916667\n",
       "\n",
       ", , place = Valencia\n",
       "\n",
       "   ans\n",
       "sex        No        Si\n",
       "  H 0.3000000 0.2000000\n",
       "  M 0.2000000 0.3000000\n"
      ]
     },
     "metadata": {},
     "output_type": "display_data"
    }
   ],
   "source": [
    "prop.table(table(sex, ans, place), margin = 3) # Frecuencias relativas por Marginal por Lugar"
   ]
  },
  {
   "cell_type": "code",
   "execution_count": 11,
   "metadata": {
    "vscode": {
     "languageId": "r"
    }
   },
   "outputs": [
    {
     "data": {
      "text/plain": [
       ", , place = Asturias\n",
       "\n",
       "   ans\n",
       "sex        No        Si\n",
       "  H 0.4000000 0.6000000\n",
       "  M 0.4166667 0.5833333\n",
       "\n",
       ", , place = Barcelona\n",
       "\n",
       "   ans\n",
       "sex        No        Si\n",
       "  H 0.3636364 0.6363636\n",
       "  M 0.7142857 0.2857143\n",
       "\n",
       ", , place = Cobija\n",
       "\n",
       "   ans\n",
       "sex        No        Si\n",
       "  H 0.7000000 0.3000000\n",
       "  M 0.6666667 0.3333333\n",
       "\n",
       ", , place = San Francisco\n",
       "\n",
       "   ans\n",
       "sex        No        Si\n",
       "  H 0.7000000 0.3000000\n",
       "  M 0.5000000 0.5000000\n",
       "\n",
       ", , place = Valencia\n",
       "\n",
       "   ans\n",
       "sex        No        Si\n",
       "  H 0.6000000 0.4000000\n",
       "  M 0.4000000 0.6000000\n"
      ]
     },
     "metadata": {},
     "output_type": "display_data"
    }
   ],
   "source": [
    "prop.table(table(sex, ans, place), margin = c(1,3)) # Frecuencias relativas por Marginal por Sexo y Lugar"
   ]
  },
  {
   "cell_type": "code",
   "execution_count": 12,
   "metadata": {
    "vscode": {
     "languageId": "r"
    }
   },
   "outputs": [
    {
     "data": {
      "text/plain": [
       "        place Asturias Barcelona Cobija San Francisco Valencia\n",
       "sex ans                                                       \n",
       "H   No            0.04      0.04   0.07          0.07     0.06\n",
       "    Si            0.06      0.07   0.03          0.03     0.04\n",
       "M   No            0.05      0.05   0.04          0.07     0.04\n",
       "    Si            0.07      0.02   0.02          0.07     0.06"
      ]
     },
     "metadata": {},
     "output_type": "display_data"
    }
   ],
   "source": [
    "ftable(prop.table(table(sex, ans, place))) # tabla multidimensional de frecuencias relativas"
   ]
  }
 ],
 "metadata": {
  "kernelspec": {
   "display_name": "R",
   "language": "R",
   "name": "ir"
  },
  "language_info": {
   "codemirror_mode": "r",
   "file_extension": ".r",
   "mimetype": "text/x-r-source",
   "name": "R",
   "pygments_lexer": "r",
   "version": "4.4.2"
  }
 },
 "nbformat": 4,
 "nbformat_minor": 2
}
